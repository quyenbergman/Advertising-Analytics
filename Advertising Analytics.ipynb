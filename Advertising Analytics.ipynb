{
 "cells": [
  {
   "cell_type": "markdown",
   "metadata": {},
   "source": [
    "# Click On Ad Prediction"
   ]
  },
  {
   "cell_type": "markdown",
   "metadata": {},
   "source": [
    "## 1. Business Problem"
   ]
  },
  {
   "cell_type": "markdown",
   "metadata": {},
   "source": [
    "To identify the right customers who will click on our ad is one of the most important tasks in our marketing campaign. The users who click may be converted and retained thus bringing revenue to the business. However, identifying the wrong ones will bring loss through spending money on nothing. Therefore, the purpose of this project is to optimise the model that is able to predict who will click and to minimise the false positive rate in order to contribute to the success of the business."
   ]
  },
  {
   "cell_type": "markdown",
   "metadata": {},
   "source": [
    "## 2. Discover"
   ]
  },
  {
   "cell_type": "markdown",
   "metadata": {},
   "source": [
    "### -- Import Libraries --"
   ]
  },
  {
   "cell_type": "code",
   "execution_count": 2,
   "metadata": {},
   "outputs": [],
   "source": [
    "import numpy as np\n",
    "import pandas as pd\n",
    "import matplotlib.pyplot as plt\n",
    "%matplotlib inline\n",
    "import seaborn as sns\n",
    "from datetime import datetime\n",
    "import time\n",
    "from sklearn.model_selection import train_test_split\n",
    "from sklearn.linear_model import LogisticRegression\n",
    "from sklearn.metrics import accuracy_score, precision_score, recall_score, confusion_matrix, make_scorer, classification_report, roc_curve, confusion_matrix, fbeta_score, roc_auc_score\n",
    "from sklearn.preprocessing import MinMaxScaler\n",
    "from sklearn.model_selection import GridSearchCV, cross_val_score\n",
    "from sklearn.ensemble import RandomForestClassifier, GradientBoostingClassifier"
   ]
  },
  {
   "cell_type": "markdown",
   "metadata": {},
   "source": [
    "### -- Load The Data --"
   ]
  },
  {
   "cell_type": "code",
   "execution_count": 3,
   "metadata": {},
   "outputs": [
    {
     "data": {
      "text/html": [
       "<div>\n",
       "<style scoped>\n",
       "    .dataframe tbody tr th:only-of-type {\n",
       "        vertical-align: middle;\n",
       "    }\n",
       "\n",
       "    .dataframe tbody tr th {\n",
       "        vertical-align: top;\n",
       "    }\n",
       "\n",
       "    .dataframe thead th {\n",
       "        text-align: right;\n",
       "    }\n",
       "</style>\n",
       "<table border=\"1\" class=\"dataframe\">\n",
       "  <thead>\n",
       "    <tr style=\"text-align: right;\">\n",
       "      <th></th>\n",
       "      <th>Daily Time Spent on Site</th>\n",
       "      <th>Age</th>\n",
       "      <th>Area Income</th>\n",
       "      <th>Daily Internet Usage</th>\n",
       "      <th>Ad Topic Line</th>\n",
       "      <th>City</th>\n",
       "      <th>Male</th>\n",
       "      <th>Country</th>\n",
       "      <th>Timestamp</th>\n",
       "      <th>Clicked on Ad</th>\n",
       "    </tr>\n",
       "  </thead>\n",
       "  <tbody>\n",
       "    <tr>\n",
       "      <th>0</th>\n",
       "      <td>68.95</td>\n",
       "      <td>35</td>\n",
       "      <td>61833.90</td>\n",
       "      <td>256.09</td>\n",
       "      <td>Cloned 5thgeneration orchestration</td>\n",
       "      <td>Wrightburgh</td>\n",
       "      <td>0</td>\n",
       "      <td>Tunisia</td>\n",
       "      <td>2016-03-27 0:53</td>\n",
       "      <td>0.0</td>\n",
       "    </tr>\n",
       "    <tr>\n",
       "      <th>1</th>\n",
       "      <td>80.23</td>\n",
       "      <td>31</td>\n",
       "      <td>68441.85</td>\n",
       "      <td>193.77</td>\n",
       "      <td>Monitored national standardization</td>\n",
       "      <td>West Jodi</td>\n",
       "      <td>1</td>\n",
       "      <td>Nauru</td>\n",
       "      <td>2016-04-04 1:39</td>\n",
       "      <td>0.0</td>\n",
       "    </tr>\n",
       "    <tr>\n",
       "      <th>2</th>\n",
       "      <td>69.47</td>\n",
       "      <td>26</td>\n",
       "      <td>59785.94</td>\n",
       "      <td>236.50</td>\n",
       "      <td>Organic bottom-line service-desk</td>\n",
       "      <td>Davidton</td>\n",
       "      <td>0</td>\n",
       "      <td>San Marino</td>\n",
       "      <td>2016-03-13 20:35</td>\n",
       "      <td>0.0</td>\n",
       "    </tr>\n",
       "    <tr>\n",
       "      <th>3</th>\n",
       "      <td>74.15</td>\n",
       "      <td>29</td>\n",
       "      <td>54806.18</td>\n",
       "      <td>245.89</td>\n",
       "      <td>Triple-buffered reciprocal time-frame</td>\n",
       "      <td>West Terrifurt</td>\n",
       "      <td>1</td>\n",
       "      <td>Italy</td>\n",
       "      <td>2016-01-10 2:31</td>\n",
       "      <td>0.0</td>\n",
       "    </tr>\n",
       "    <tr>\n",
       "      <th>4</th>\n",
       "      <td>68.37</td>\n",
       "      <td>35</td>\n",
       "      <td>73889.99</td>\n",
       "      <td>225.58</td>\n",
       "      <td>Robust logistical utilization</td>\n",
       "      <td>South Manuel</td>\n",
       "      <td>0</td>\n",
       "      <td>Iceland</td>\n",
       "      <td>2016-06-03 3:36</td>\n",
       "      <td>0.0</td>\n",
       "    </tr>\n",
       "  </tbody>\n",
       "</table>\n",
       "</div>"
      ],
      "text/plain": [
       "   Daily Time Spent on Site  Age  Area Income  Daily Internet Usage  \\\n",
       "0                     68.95   35     61833.90                256.09   \n",
       "1                     80.23   31     68441.85                193.77   \n",
       "2                     69.47   26     59785.94                236.50   \n",
       "3                     74.15   29     54806.18                245.89   \n",
       "4                     68.37   35     73889.99                225.58   \n",
       "\n",
       "                           Ad Topic Line            City  Male     Country  \\\n",
       "0     Cloned 5thgeneration orchestration     Wrightburgh     0     Tunisia   \n",
       "1     Monitored national standardization       West Jodi     1       Nauru   \n",
       "2       Organic bottom-line service-desk        Davidton     0  San Marino   \n",
       "3  Triple-buffered reciprocal time-frame  West Terrifurt     1       Italy   \n",
       "4          Robust logistical utilization    South Manuel     0     Iceland   \n",
       "\n",
       "          Timestamp  Clicked on Ad  \n",
       "0   2016-03-27 0:53            0.0  \n",
       "1   2016-04-04 1:39            0.0  \n",
       "2  2016-03-13 20:35            0.0  \n",
       "3   2016-01-10 2:31            0.0  \n",
       "4   2016-06-03 3:36            0.0  "
      ]
     },
     "execution_count": 3,
     "metadata": {},
     "output_type": "execute_result"
    }
   ],
   "source": [
    "advertising_df = pd.read_csv('advertising_dsdj.csv')\n",
    "advertising_df.head()"
   ]
  },
  {
   "cell_type": "markdown",
   "metadata": {},
   "source": [
    "### -- Clean The Data --"
   ]
  },
  {
   "cell_type": "code",
   "execution_count": 4,
   "metadata": {},
   "outputs": [],
   "source": [
    "# Changing column names to lower case\n",
    "new_name = advertising_df.columns.str.lower().values \n",
    "advertising_df.columns = new_name"
   ]
  },
  {
   "cell_type": "code",
   "execution_count": 5,
   "metadata": {},
   "outputs": [
    {
     "name": "stdout",
     "output_type": "stream",
     "text": [
      "<class 'pandas.core.frame.DataFrame'>\n",
      "RangeIndex: 1018 entries, 0 to 1017\n",
      "Data columns (total 10 columns):\n",
      " #   Column                    Non-Null Count  Dtype  \n",
      "---  ------                    --------------  -----  \n",
      " 0   daily time spent on site  1018 non-null   float64\n",
      " 1   age                       1018 non-null   int64  \n",
      " 2   area income               1018 non-null   float64\n",
      " 3   daily internet usage      1018 non-null   float64\n",
      " 4   ad topic line             1018 non-null   object \n",
      " 5   city                      1018 non-null   object \n",
      " 6   male                      1018 non-null   int64  \n",
      " 7   country                   1018 non-null   object \n",
      " 8   timestamp                 1018 non-null   object \n",
      " 9   clicked on ad             1014 non-null   float64\n",
      "dtypes: float64(4), int64(2), object(4)\n",
      "memory usage: 79.7+ KB\n"
     ]
    }
   ],
   "source": [
    "# Check for length and dtypes\n",
    "advertising_df.info()"
   ]
  },
  {
   "cell_type": "code",
   "execution_count": 6,
   "metadata": {},
   "outputs": [
    {
     "data": {
      "text/plain": [
       "daily time spent on site    0\n",
       "age                         0\n",
       "area income                 0\n",
       "daily internet usage        0\n",
       "ad topic line               0\n",
       "city                        0\n",
       "male                        0\n",
       "country                     0\n",
       "timestamp                   0\n",
       "clicked on ad               4\n",
       "dtype: int64"
      ]
     },
     "execution_count": 6,
     "metadata": {},
     "output_type": "execute_result"
    }
   ],
   "source": [
    "# Checking for missing values\n",
    "advertising_df.isnull().sum()"
   ]
  },
  {
   "cell_type": "code",
   "execution_count": 7,
   "metadata": {},
   "outputs": [],
   "source": [
    "# Dropping observations that have missing values on the target variable\n",
    "advertising_df.dropna(axis = 0, inplace=True)"
   ]
  },
  {
   "cell_type": "code",
   "execution_count": 8,
   "metadata": {},
   "outputs": [
    {
     "data": {
      "text/html": [
       "<div>\n",
       "<style scoped>\n",
       "    .dataframe tbody tr th:only-of-type {\n",
       "        vertical-align: middle;\n",
       "    }\n",
       "\n",
       "    .dataframe tbody tr th {\n",
       "        vertical-align: top;\n",
       "    }\n",
       "\n",
       "    .dataframe thead th {\n",
       "        text-align: right;\n",
       "    }\n",
       "</style>\n",
       "<table border=\"1\" class=\"dataframe\">\n",
       "  <thead>\n",
       "    <tr style=\"text-align: right;\">\n",
       "      <th></th>\n",
       "      <th>daily time spent on site</th>\n",
       "      <th>age</th>\n",
       "      <th>area income</th>\n",
       "      <th>daily internet usage</th>\n",
       "      <th>ad topic line</th>\n",
       "      <th>city</th>\n",
       "      <th>male</th>\n",
       "      <th>country</th>\n",
       "      <th>timestamp</th>\n",
       "      <th>clicked on ad</th>\n",
       "    </tr>\n",
       "  </thead>\n",
       "  <tbody>\n",
       "    <tr>\n",
       "      <th>162</th>\n",
       "      <td>75.55</td>\n",
       "      <td>36</td>\n",
       "      <td>73234.87</td>\n",
       "      <td>159.24</td>\n",
       "      <td>Managed grid-enabled standardization</td>\n",
       "      <td>Ramirezside</td>\n",
       "      <td>0</td>\n",
       "      <td>Liechtenstein</td>\n",
       "      <td>2016-05-09 2:58</td>\n",
       "      <td>1.0</td>\n",
       "    </tr>\n",
       "    <tr>\n",
       "      <th>222</th>\n",
       "      <td>53.30</td>\n",
       "      <td>34</td>\n",
       "      <td>44893.71</td>\n",
       "      <td>111.94</td>\n",
       "      <td>Self-enabling optimal initiative</td>\n",
       "      <td>West Jessicahaven</td>\n",
       "      <td>0</td>\n",
       "      <td>Mauritania</td>\n",
       "      <td>2016-05-06 21:07</td>\n",
       "      <td>1.0</td>\n",
       "    </tr>\n",
       "    <tr>\n",
       "      <th>235</th>\n",
       "      <td>84.08</td>\n",
       "      <td>30</td>\n",
       "      <td>62336.39</td>\n",
       "      <td>187.36</td>\n",
       "      <td>Face-to-face intermediate approach</td>\n",
       "      <td>Carterburgh</td>\n",
       "      <td>1</td>\n",
       "      <td>Fiji</td>\n",
       "      <td>2016-01-13 2:58</td>\n",
       "      <td>0.0</td>\n",
       "    </tr>\n",
       "    <tr>\n",
       "      <th>923</th>\n",
       "      <td>87.18</td>\n",
       "      <td>31</td>\n",
       "      <td>58287.86</td>\n",
       "      <td>193.60</td>\n",
       "      <td>Right-sized logistical middleware</td>\n",
       "      <td>West Andrew</td>\n",
       "      <td>0</td>\n",
       "      <td>Madagascar</td>\n",
       "      <td>2016-01-31 5:12</td>\n",
       "      <td>0.0</td>\n",
       "    </tr>\n",
       "    <tr>\n",
       "      <th>924</th>\n",
       "      <td>87.18</td>\n",
       "      <td>31</td>\n",
       "      <td>58287.86</td>\n",
       "      <td>193.60</td>\n",
       "      <td>Right-sized logistical middleware</td>\n",
       "      <td>West Andrew</td>\n",
       "      <td>0</td>\n",
       "      <td>Madagascar</td>\n",
       "      <td>2016-01-31 5:12</td>\n",
       "      <td>0.0</td>\n",
       "    </tr>\n",
       "    <tr>\n",
       "      <th>925</th>\n",
       "      <td>87.18</td>\n",
       "      <td>31</td>\n",
       "      <td>58287.86</td>\n",
       "      <td>193.60</td>\n",
       "      <td>Right-sized logistical middleware</td>\n",
       "      <td>West Andrew</td>\n",
       "      <td>0</td>\n",
       "      <td>Madagascar</td>\n",
       "      <td>2016-01-31 5:12</td>\n",
       "      <td>0.0</td>\n",
       "    </tr>\n",
       "    <tr>\n",
       "      <th>944</th>\n",
       "      <td>72.55</td>\n",
       "      <td>22</td>\n",
       "      <td>58953.01</td>\n",
       "      <td>202.34</td>\n",
       "      <td>Balanced empowering success</td>\n",
       "      <td>New Cynthia</td>\n",
       "      <td>0</td>\n",
       "      <td>Bosnia and Herzegovina</td>\n",
       "      <td>2016-02-08 7:33</td>\n",
       "      <td>0.0</td>\n",
       "    </tr>\n",
       "  </tbody>\n",
       "</table>\n",
       "</div>"
      ],
      "text/plain": [
       "     daily time spent on site  age  area income  daily internet usage  \\\n",
       "162                     75.55   36     73234.87                159.24   \n",
       "222                     53.30   34     44893.71                111.94   \n",
       "235                     84.08   30     62336.39                187.36   \n",
       "923                     87.18   31     58287.86                193.60   \n",
       "924                     87.18   31     58287.86                193.60   \n",
       "925                     87.18   31     58287.86                193.60   \n",
       "944                     72.55   22     58953.01                202.34   \n",
       "\n",
       "                            ad topic line               city  male  \\\n",
       "162  Managed grid-enabled standardization        Ramirezside     0   \n",
       "222      Self-enabling optimal initiative  West Jessicahaven     0   \n",
       "235    Face-to-face intermediate approach        Carterburgh     1   \n",
       "923     Right-sized logistical middleware        West Andrew     0   \n",
       "924     Right-sized logistical middleware        West Andrew     0   \n",
       "925     Right-sized logistical middleware        West Andrew     0   \n",
       "944           Balanced empowering success        New Cynthia     0   \n",
       "\n",
       "                    country         timestamp  clicked on ad  \n",
       "162           Liechtenstein   2016-05-09 2:58            1.0  \n",
       "222              Mauritania  2016-05-06 21:07            1.0  \n",
       "235                    Fiji   2016-01-13 2:58            0.0  \n",
       "923              Madagascar   2016-01-31 5:12            0.0  \n",
       "924              Madagascar   2016-01-31 5:12            0.0  \n",
       "925              Madagascar   2016-01-31 5:12            0.0  \n",
       "944  Bosnia and Herzegovina   2016-02-08 7:33            0.0  "
      ]
     },
     "execution_count": 8,
     "metadata": {},
     "output_type": "execute_result"
    }
   ],
   "source": [
    "# Checking for duplicated entries\n",
    "advertising_df[advertising_df.duplicated()]"
   ]
  },
  {
   "cell_type": "code",
   "execution_count": 9,
   "metadata": {},
   "outputs": [],
   "source": [
    "# Dropping 3 duplicated line with index 923, 924, 925\n",
    "advertising_df.drop(index = [923,924,925], axis = 0, inplace = True)"
   ]
  },
  {
   "cell_type": "code",
   "execution_count": 10,
   "metadata": {},
   "outputs": [],
   "source": [
    "# Convert 'timestamp' into datetime dtypes\n",
    "advertising_df['timestamp'] = pd.to_datetime(advertising_df['timestamp'])"
   ]
  },
  {
   "cell_type": "markdown",
   "metadata": {},
   "source": [
    "## 3. Exploratory Data Analysis"
   ]
  },
  {
   "cell_type": "markdown",
   "metadata": {},
   "source": [
    "### -- Calculate Clicked On Ad Rate --"
   ]
  },
  {
   "cell_type": "code",
   "execution_count": 11,
   "metadata": {},
   "outputs": [
    {
     "data": {
      "text/plain": [
       "1.0    0.502473\n",
       "0.0    0.497527\n",
       "Name: clicked on ad, dtype: float64"
      ]
     },
     "execution_count": 11,
     "metadata": {},
     "output_type": "execute_result"
    }
   ],
   "source": [
    "click_rate = advertising_df['clicked on ad'].value_counts(1)\n",
    "click_rate"
   ]
  },
  {
   "cell_type": "raw",
   "metadata": {},
   "source": [
    "The data has a fairly balanced rate between 2 classes. Therefore, We won't need to apply the class imbalanced treatment"
   ]
  },
  {
   "cell_type": "markdown",
   "metadata": {},
   "source": [
    "### -- Statistical Overview --"
   ]
  },
  {
   "cell_type": "code",
   "execution_count": 12,
   "metadata": {},
   "outputs": [
    {
     "data": {
      "text/html": [
       "<div>\n",
       "<style scoped>\n",
       "    .dataframe tbody tr th:only-of-type {\n",
       "        vertical-align: middle;\n",
       "    }\n",
       "\n",
       "    .dataframe tbody tr th {\n",
       "        vertical-align: top;\n",
       "    }\n",
       "\n",
       "    .dataframe thead th {\n",
       "        text-align: right;\n",
       "    }\n",
       "</style>\n",
       "<table border=\"1\" class=\"dataframe\">\n",
       "  <thead>\n",
       "    <tr style=\"text-align: right;\">\n",
       "      <th></th>\n",
       "      <th>daily time spent on site</th>\n",
       "      <th>age</th>\n",
       "      <th>area income</th>\n",
       "      <th>daily internet usage</th>\n",
       "      <th>male</th>\n",
       "      <th>clicked on ad</th>\n",
       "    </tr>\n",
       "  </thead>\n",
       "  <tbody>\n",
       "    <tr>\n",
       "      <th>count</th>\n",
       "      <td>1011.000000</td>\n",
       "      <td>1011.000000</td>\n",
       "      <td>1011.000000</td>\n",
       "      <td>1011.000000</td>\n",
       "      <td>1011.000000</td>\n",
       "      <td>1011.000000</td>\n",
       "    </tr>\n",
       "    <tr>\n",
       "      <th>mean</th>\n",
       "      <td>64.977794</td>\n",
       "      <td>36.932740</td>\n",
       "      <td>54919.003600</td>\n",
       "      <td>179.330465</td>\n",
       "      <td>0.481701</td>\n",
       "      <td>0.502473</td>\n",
       "    </tr>\n",
       "    <tr>\n",
       "      <th>std</th>\n",
       "      <td>15.840008</td>\n",
       "      <td>31.671042</td>\n",
       "      <td>13450.575621</td>\n",
       "      <td>44.522130</td>\n",
       "      <td>0.499912</td>\n",
       "      <td>0.500241</td>\n",
       "    </tr>\n",
       "    <tr>\n",
       "      <th>min</th>\n",
       "      <td>32.600000</td>\n",
       "      <td>-25.000000</td>\n",
       "      <td>13996.500000</td>\n",
       "      <td>23.640000</td>\n",
       "      <td>0.000000</td>\n",
       "      <td>0.000000</td>\n",
       "    </tr>\n",
       "    <tr>\n",
       "      <th>25%</th>\n",
       "      <td>51.340000</td>\n",
       "      <td>29.000000</td>\n",
       "      <td>46899.780000</td>\n",
       "      <td>138.490000</td>\n",
       "      <td>0.000000</td>\n",
       "      <td>0.000000</td>\n",
       "    </tr>\n",
       "    <tr>\n",
       "      <th>50%</th>\n",
       "      <td>68.110000</td>\n",
       "      <td>35.000000</td>\n",
       "      <td>56986.730000</td>\n",
       "      <td>182.200000</td>\n",
       "      <td>0.000000</td>\n",
       "      <td>1.000000</td>\n",
       "    </tr>\n",
       "    <tr>\n",
       "      <th>75%</th>\n",
       "      <td>78.535000</td>\n",
       "      <td>42.000000</td>\n",
       "      <td>65350.775000</td>\n",
       "      <td>218.355000</td>\n",
       "      <td>1.000000</td>\n",
       "      <td>1.000000</td>\n",
       "    </tr>\n",
       "    <tr>\n",
       "      <th>max</th>\n",
       "      <td>91.430000</td>\n",
       "      <td>999.000000</td>\n",
       "      <td>79484.800000</td>\n",
       "      <td>269.960000</td>\n",
       "      <td>1.000000</td>\n",
       "      <td>1.000000</td>\n",
       "    </tr>\n",
       "  </tbody>\n",
       "</table>\n",
       "</div>"
      ],
      "text/plain": [
       "       daily time spent on site          age   area income  \\\n",
       "count               1011.000000  1011.000000   1011.000000   \n",
       "mean                  64.977794    36.932740  54919.003600   \n",
       "std                   15.840008    31.671042  13450.575621   \n",
       "min                   32.600000   -25.000000  13996.500000   \n",
       "25%                   51.340000    29.000000  46899.780000   \n",
       "50%                   68.110000    35.000000  56986.730000   \n",
       "75%                   78.535000    42.000000  65350.775000   \n",
       "max                   91.430000   999.000000  79484.800000   \n",
       "\n",
       "       daily internet usage         male  clicked on ad  \n",
       "count           1011.000000  1011.000000    1011.000000  \n",
       "mean             179.330465     0.481701       0.502473  \n",
       "std               44.522130     0.499912       0.500241  \n",
       "min               23.640000     0.000000       0.000000  \n",
       "25%              138.490000     0.000000       0.000000  \n",
       "50%              182.200000     0.000000       1.000000  \n",
       "75%              218.355000     1.000000       1.000000  \n",
       "max              269.960000     1.000000       1.000000  "
      ]
     },
     "execution_count": 12,
     "metadata": {},
     "output_type": "execute_result"
    }
   ],
   "source": [
    "advertising_df.describe()"
   ]
  },
  {
   "cell_type": "code",
   "execution_count": 13,
   "metadata": {},
   "outputs": [
    {
     "data": {
      "text/html": [
       "<div>\n",
       "<style scoped>\n",
       "    .dataframe tbody tr th:only-of-type {\n",
       "        vertical-align: middle;\n",
       "    }\n",
       "\n",
       "    .dataframe tbody tr th {\n",
       "        vertical-align: top;\n",
       "    }\n",
       "\n",
       "    .dataframe thead th {\n",
       "        text-align: right;\n",
       "    }\n",
       "</style>\n",
       "<table border=\"1\" class=\"dataframe\">\n",
       "  <thead>\n",
       "    <tr style=\"text-align: right;\">\n",
       "      <th></th>\n",
       "      <th>ad topic line</th>\n",
       "      <th>city</th>\n",
       "      <th>country</th>\n",
       "    </tr>\n",
       "  </thead>\n",
       "  <tbody>\n",
       "    <tr>\n",
       "      <th>count</th>\n",
       "      <td>1011</td>\n",
       "      <td>1011</td>\n",
       "      <td>1011</td>\n",
       "    </tr>\n",
       "    <tr>\n",
       "      <th>unique</th>\n",
       "      <td>1000</td>\n",
       "      <td>969</td>\n",
       "      <td>237</td>\n",
       "    </tr>\n",
       "    <tr>\n",
       "      <th>top</th>\n",
       "      <td>Re-engineered real-time success</td>\n",
       "      <td>Williamsport</td>\n",
       "      <td>France</td>\n",
       "    </tr>\n",
       "    <tr>\n",
       "      <th>freq</th>\n",
       "      <td>2</td>\n",
       "      <td>4</td>\n",
       "      <td>9</td>\n",
       "    </tr>\n",
       "  </tbody>\n",
       "</table>\n",
       "</div>"
      ],
      "text/plain": [
       "                          ad topic line          city country\n",
       "count                              1011          1011    1011\n",
       "unique                             1000           969     237\n",
       "top     Re-engineered real-time success  Williamsport  France\n",
       "freq                                  2             4       9"
      ]
     },
     "execution_count": 13,
     "metadata": {},
     "output_type": "execute_result"
    }
   ],
   "source": [
    "advertising_df.describe(include='object')"
   ]
  },
  {
   "cell_type": "raw",
   "metadata": {},
   "source": [
    "It does not make sense that the minimum age is negative and the maximum age is 999. Let's further investigate this problem"
   ]
  },
  {
   "cell_type": "code",
   "execution_count": 14,
   "metadata": {},
   "outputs": [
    {
     "data": {
      "text/plain": [
       "<matplotlib.lines.Line2D at 0x7fc9e56e1ed0>"
      ]
     },
     "execution_count": 14,
     "metadata": {},
     "output_type": "execute_result"
    },
    {
     "data": {
      "image/png": "[encoded data removed]",
      "text/plain": [
       "<Figure size 576x360 with 1 Axes>"
      ]
     },
     "metadata": {
      "needs_background": "light"
     },
     "output_type": "display_data"
    }
   ],
   "source": [
    "#plotting the age by scatter plot\n",
    "fig = plt.figure(figsize=(8,5))\n",
    "plt.scatter(x=np.arange(len(advertising_df['age'])), y = sorted(advertising_df['age']))\n",
    "plt.axhline(y=0, linestyle='--', color='r')\n",
    "plt.axhline(y=100, linestyle='--', color='r')"
   ]
  },
  {
   "cell_type": "code",
   "execution_count": 15,
   "metadata": {},
   "outputs": [],
   "source": [
    "# Let's have a look at rows with age < 18 & age > 100\n",
    "extreme = advertising_df[(advertising_df['age'] < 18) | (advertising_df['age'] > 100)]"
   ]
  },
  {
   "cell_type": "code",
   "execution_count": 16,
   "metadata": {},
   "outputs": [],
   "source": [
    "# Let's drop these extreme age values\n",
    "advertising_df.drop(axis = 0, index = extreme.index, inplace=True)"
   ]
  },
  {
   "cell_type": "code",
   "execution_count": 17,
   "metadata": {},
   "outputs": [],
   "source": [
    "# Let's look at the 'daily time spent on site' & 'daily internet usage' \n",
    "# to filter out the rows that do not make sense\n",
    "invalid_rows = advertising_df[advertising_df['daily time spent on site'] > advertising_df['daily internet usage']]\n",
    "# Drop these invalid rows\n",
    "advertising_df.drop(index=invalid_rows.index, axis = 0, inplace=True)"
   ]
  },
  {
   "cell_type": "markdown",
   "metadata": {},
   "source": [
    "### -- Feature Distributions --"
   ]
  },
  {
   "cell_type": "code",
   "execution_count": 18,
   "metadata": {},
   "outputs": [],
   "source": [
    "def dist_plot_features(df, feature, size):\n",
    "    plt.figure(figsize=size)\n",
    "    for i in range(len(feature)):\n",
    "        plt.subplot(3,3,i+1)\n",
    "        sns.distplot(df[feature[i]])"
   ]
  },
  {
   "cell_type": "code",
   "execution_count": 19,
   "metadata": {},
   "outputs": [
    {
     "data": {
      "image/png": "[encoded data removed]",
      "text/plain": [
       "<Figure size 1224x1008 with 6 Axes>"
      ]
     },
     "metadata": {
      "needs_background": "light"
     },
     "output_type": "display_data"
    }
   ],
   "source": [
    "numerical_vars = advertising_df.select_dtypes(exclude=['object', 'datetime64']).columns\n",
    "dist_plot_features(advertising_df, feature=numerical_vars, size = (17,14))"
   ]
  },
  {
   "cell_type": "markdown",
   "metadata": {},
   "source": [
    "The 'daily time spent on site' and 'daily internet usage' follow the bimodal distribution. It means that they may have two distinct groups. The 'age' and 'area income' variables are slightly skewed which could reduce the accuracy of our model later on. We need to apply a transformation on these variables using the following steps."
   ]
  },
  {
   "cell_type": "markdown",
   "metadata": {},
   "source": [
    "### -- Boxplot --"
   ]
  },
  {
   "cell_type": "code",
   "execution_count": 20,
   "metadata": {},
   "outputs": [],
   "source": [
    "def box_plot_features(df, features, target, size):\n",
    "    plt.figure(figsize=size)\n",
    "    for i in range(len(features)-1):\n",
    "        plt.subplot(3,3,i+1)\n",
    "        sns.boxplot(x=target, y = features[i], data=df)"
   ]
  },
  {
   "cell_type": "code",
   "execution_count": 21,
   "metadata": {},
   "outputs": [
    {
     "data": {
      "image/png": "[encoded data removed]",
      "text/plain": [
       "<Figure size 1224x1008 with 5 Axes>"
      ]
     },
     "metadata": {
      "needs_background": "light"
     },
     "output_type": "display_data"
    }
   ],
   "source": [
    "box_plot_features(advertising_df, features=numerical_vars, target = 'clicked on ad', size = (17,14))"
   ]
  },
  {
   "cell_type": "markdown",
   "metadata": {},
   "source": [
    "From the box plots above, We could conclude that the 2 groups namely 'clicked on ad' and 'not clicked on ad', are very distinct in their internet habits, income and age. We will have a further look at these variables next. "
   ]
  },
  {
   "cell_type": "markdown",
   "metadata": {},
   "source": [
    "### -- Correlation --"
   ]
  },
  {
   "cell_type": "code",
   "execution_count": 22,
   "metadata": {},
   "outputs": [
    {
     "data": {
      "text/plain": [
       "<matplotlib.axes._subplots.AxesSubplot at 0x7fc9e59714d0>"
      ]
     },
     "execution_count": 22,
     "metadata": {},
     "output_type": "execute_result"
    },
    {
     "data": {
      "image/png": "[encoded data removed]",
      "text/plain": [
       "<Figure size 720x504 with 2 Axes>"
      ]
     },
     "metadata": {
      "needs_background": "light"
     },
     "output_type": "display_data"
    }
   ],
   "source": [
    "fig = plt.figure(figsize=(10,7))\n",
    "sns.heatmap(advertising_df.corr(), annot=True, cmap= \"YlGnBu\", vmin = -1, vmax = 1)"
   ]
  },
  {
   "cell_type": "markdown",
   "metadata": {},
   "source": [
    "We could see some interesting trends from our correlation heatmap. In terms of the relationship between our target variable and the features, 'daily time spent on site', 'daily internet usage' are negatively correlated with the target variable. Meanwhile, 'age' and 'clicked on ad' are positively correlated. For the relationship between features, 'daily internet usage' has the positive correlation with 'daily time spent on site'."
   ]
  },
  {
   "cell_type": "markdown",
   "metadata": {},
   "source": [
    "### -- Distribution Plots With Respect To Target Feature --"
   ]
  },
  {
   "cell_type": "code",
   "execution_count": 23,
   "metadata": {},
   "outputs": [],
   "source": [
    "# Subsetting by clicks\n",
    "click_yes = advertising_df['clicked on ad'] == 1\n",
    "click_no = advertising_df['clicked on ad']==0"
   ]
  },
  {
   "cell_type": "code",
   "execution_count": 24,
   "metadata": {},
   "outputs": [],
   "source": [
    "def distplot_features_target(df, features):\n",
    "    plt.figure(figsize = (14,10))\n",
    "    for feature in features:\n",
    "        plt.subplot(2,2,features.index(feature) + 1)\n",
    "        sns.distplot(df[feature][click_yes], label = 'click', color = 'cyan')\n",
    "        sns.distplot(df[feature][click_no], label = 'no click', color = 'orange')\n",
    "        plt.axvline(df[feature][click_yes].mean(), linestyle = '--', color = 'cyan')\n",
    "        plt.axvline(df[feature][click_no].mean(), linestyle = '--', color = 'orange')\n",
    "        plt.legend()"
   ]
  },
  {
   "cell_type": "code",
   "execution_count": 25,
   "metadata": {},
   "outputs": [
    {
     "data": {
      "image/png": "[encoded data removed]",
      "text/plain": [
       "<Figure size 1008x720 with 4 Axes>"
      ]
     },
     "metadata": {
      "needs_background": "light"
     },
     "output_type": "display_data"
    }
   ],
   "source": [
    "features = ['daily internet usage', 'daily time spent on site', 'area income', 'age']\n",
    "distplot_features_target(advertising_df, features)"
   ]
  },
  {
   "cell_type": "markdown",
   "metadata": {},
   "source": [
    "### -- Categorical Variables --"
   ]
  },
  {
   "cell_type": "code",
   "execution_count": 26,
   "metadata": {},
   "outputs": [
    {
     "name": "stdout",
     "output_type": "stream",
     "text": [
      "The number of unique cities in our advertising_df is: 969\n",
      "The number of unique countries in our advertising_df is: 237\n",
      "There are 1004 observations in our advertising_df\n"
     ]
    }
   ],
   "source": [
    "print('The number of unique cities in our advertising_df is: {}'.format(advertising_df['city'].nunique()))\n",
    "print('The number of unique countries in our advertising_df is: {}'.format(advertising_df['country'].nunique()))\n",
    "print('There are {} observations in our advertising_df'.format(len(advertising_df)))"
   ]
  },
  {
   "cell_type": "markdown",
   "metadata": {},
   "source": [
    "The 'city' variable has too many unique values within our small dataset and as such it holds no strong predictive value in our model and thus will be ignored. Instead, we will look at the less diverse variable named 'country'  for our analysis to look for user patterns from each country."
   ]
  },
  {
   "cell_type": "code",
   "execution_count": 27,
   "metadata": {},
   "outputs": [
    {
     "name": "stdout",
     "output_type": "stream",
     "text": [
      "col_0                   count\n",
      "country                      \n",
      "France                      9\n",
      "Czech Republic              9\n",
      "Afghanistan                 8\n",
      "Bosnia and Herzegovina      8\n",
      "Turkey                      8\n",
      "col_0                                               count\n",
      "country                                                  \n",
      "Slovenia                                                1\n",
      "Saint Kitts and Nevis                                   1\n",
      "Romania                                                 1\n",
      "British Indian Ocean Territory (Chagos Archipel...      1\n",
      "Bermuda                                                 1\n"
     ]
    }
   ],
   "source": [
    "count_country = pd.crosstab(index = advertising_df['country'], columns='count')\n",
    "print(count_country.sort_values(['count'], ascending = False).head())\n",
    "print(count_country.sort_values(['count'], ascending = False).tail())"
   ]
  },
  {
   "cell_type": "code",
   "execution_count": 28,
   "metadata": {},
   "outputs": [
    {
     "name": "stdout",
     "output_type": "stream",
     "text": [
      "clicked on ad  0.0  1.0\n",
      "country                \n",
      "Australia        1    7\n",
      "Turkey           1    7\n",
      "Liechtenstein    0    7\n",
      "Ethiopia         0    7\n",
      "Liberia          2    6\n",
      "clicked on ad  0.0  1.0\n",
      "country                \n",
      "Nicaragua        3    0\n",
      "Niue             3    0\n",
      "Panama           2    0\n",
      "Reunion          2    0\n",
      "Aruba            1    0\n"
     ]
    }
   ],
   "source": [
    "country_count_click = pd.crosstab(advertising_df['country'], advertising_df['clicked on ad'],\n",
    "                                  rownames=['country'], colnames=['clicked on ad'])\n",
    "print(country_count_click.sort_values(1, ascending = False).head())\n",
    "print(country_count_click.sort_values(1, ascending = False).tail())"
   ]
  },
  {
   "cell_type": "code",
   "execution_count": 55,
   "metadata": {},
   "outputs": [],
   "source": [
    "def print_summary(df, col, label):\n",
    "    print('The maximum number of {} from countries accross the globe is: {}'.format(label, df[col].max()))\n",
    "    print('The minimum number of {} from countries accross the globe is: {}'.format(label, df[col].min()))\n",
    "    print('The average number of {} from countries accross the globe is: {}'.format(label, round(df[col].mean(),2)))\n",
    "    print('The standard deviation of {} from countries accross the globe is: {}'.format(label, round(df[col].std(),2)))"
   ]
  },
  {
   "cell_type": "code",
   "execution_count": 56,
   "metadata": {},
   "outputs": [
    {
     "name": "stdout",
     "output_type": "stream",
     "text": [
      "The maximum number of users from countries accross the globe is: 9\n",
      "The minimum number of users from countries accross the globe is: 1\n",
      "The average number of users from countries accross the globe is: 4.24\n",
      "The standard deviation of users from countries accross the globe is: 1.85\n"
     ]
    }
   ],
   "source": [
    "print_summary(count_country, col = 'count', label = 'users')"
   ]
  },
  {
   "cell_type": "code",
   "execution_count": 57,
   "metadata": {},
   "outputs": [
    {
     "name": "stdout",
     "output_type": "stream",
     "text": [
      "The maximum number of click users from countries accross the globe is: 7\n",
      "The minimum number of click users from countries accross the globe is: 0\n",
      "The average number of click users from countries accross the globe is: 2.12\n",
      "The standard deviation of click users from countries accross the globe is: 1.43\n"
     ]
    }
   ],
   "source": [
    "print_summary(country_count_click, col = 1, label = 'click users')"
   ]
  },
  {
   "cell_type": "markdown",
   "metadata": {},
   "source": [
    "## 4. Feature Engineering"
   ]
  },
  {
   "cell_type": "markdown",
   "metadata": {},
   "source": [
    "### -- Log Transform On Skewed Features --"
   ]
  },
  {
   "cell_type": "markdown",
   "metadata": {},
   "source": [
    "As being mentioned previously, we have skewed features namely 'age' and 'area income' and these could cause our model performing poorly. A recommended solution here is to perform a log transformation to reduce the effect of outliers and distribution's range."
   ]
  },
  {
   "cell_type": "code",
   "execution_count": 32,
   "metadata": {},
   "outputs": [],
   "source": [
    "advertising_df['log age'] = np.log(advertising_df['age'])"
   ]
  },
  {
   "cell_type": "code",
   "execution_count": 33,
   "metadata": {},
   "outputs": [],
   "source": [
    "#advertising_df['log area income'] = np.log(advertising_df['area income'])"
   ]
  },
  {
   "cell_type": "markdown",
   "metadata": {},
   "source": [
    "### -- Feature Removing --"
   ]
  },
  {
   "cell_type": "markdown",
   "metadata": {},
   "source": [
    "As being mentioned above, We will remove 'city' due to its extreme diversity. For the time being and for the simplicity of our model, we will delete 'timestamp' and 'ad topic line' as these need special approaches like Natural Language Processing and Time Series Analysis. "
   ]
  },
  {
   "cell_type": "code",
   "execution_count": 34,
   "metadata": {},
   "outputs": [],
   "source": [
    "dropped_cols = ['city', 'timestamp', 'ad topic line', 'age']\n",
    "advertising_df.drop(axis = 1, columns = dropped_cols, inplace = True)"
   ]
  },
  {
   "cell_type": "markdown",
   "metadata": {},
   "source": [
    "### -- Numerical Feature Normalisation --"
   ]
  },
  {
   "cell_type": "code",
   "execution_count": 35,
   "metadata": {},
   "outputs": [],
   "source": [
    "#Define variable\n",
    "numerical_vars = ['daily time spent on site', 'daily internet usage', 'male',\n",
    "                  'clicked on ad', 'log age','area income']\n",
    "categorical_vars = 'country'\n",
    "target = 'clicked on ad'\n",
    "#make a copy of our data\n",
    "copy_df = advertising_df.copy()"
   ]
  },
  {
   "cell_type": "code",
   "execution_count": 36,
   "metadata": {},
   "outputs": [],
   "source": [
    "scaler = MinMaxScaler()\n",
    "copy_df[numerical_vars] = scaler.fit_transform(copy_df[numerical_vars])"
   ]
  },
  {
   "cell_type": "code",
   "execution_count": 37,
   "metadata": {},
   "outputs": [
    {
     "data": {
      "text/html": [
       "<div>\n",
       "<style scoped>\n",
       "    .dataframe tbody tr th:only-of-type {\n",
       "        vertical-align: middle;\n",
       "    }\n",
       "\n",
       "    .dataframe tbody tr th {\n",
       "        vertical-align: top;\n",
       "    }\n",
       "\n",
       "    .dataframe thead th {\n",
       "        text-align: right;\n",
       "    }\n",
       "</style>\n",
       "<table border=\"1\" class=\"dataframe\">\n",
       "  <thead>\n",
       "    <tr style=\"text-align: right;\">\n",
       "      <th></th>\n",
       "      <th>daily time spent on site</th>\n",
       "      <th>area income</th>\n",
       "      <th>daily internet usage</th>\n",
       "      <th>male</th>\n",
       "      <th>country</th>\n",
       "      <th>clicked on ad</th>\n",
       "      <th>log age</th>\n",
       "    </tr>\n",
       "  </thead>\n",
       "  <tbody>\n",
       "    <tr>\n",
       "      <th>0</th>\n",
       "      <td>0.617882</td>\n",
       "      <td>0.730472</td>\n",
       "      <td>0.916031</td>\n",
       "      <td>0.0</td>\n",
       "      <td>Tunisia</td>\n",
       "      <td>0.0</td>\n",
       "      <td>0.523740</td>\n",
       "    </tr>\n",
       "    <tr>\n",
       "      <th>1</th>\n",
       "      <td>0.809621</td>\n",
       "      <td>0.831375</td>\n",
       "      <td>0.538746</td>\n",
       "      <td>1.0</td>\n",
       "      <td>Nauru</td>\n",
       "      <td>0.0</td>\n",
       "      <td>0.419696</td>\n",
       "    </tr>\n",
       "    <tr>\n",
       "      <th>2</th>\n",
       "      <td>0.626721</td>\n",
       "      <td>0.699200</td>\n",
       "      <td>0.797433</td>\n",
       "      <td>0.0</td>\n",
       "      <td>San Marino</td>\n",
       "      <td>0.0</td>\n",
       "      <td>0.268903</td>\n",
       "    </tr>\n",
       "    <tr>\n",
       "      <th>3</th>\n",
       "      <td>0.706272</td>\n",
       "      <td>0.623160</td>\n",
       "      <td>0.854280</td>\n",
       "      <td>1.0</td>\n",
       "      <td>Italy</td>\n",
       "      <td>0.0</td>\n",
       "      <td>0.362521</td>\n",
       "    </tr>\n",
       "    <tr>\n",
       "      <th>4</th>\n",
       "      <td>0.608023</td>\n",
       "      <td>0.914568</td>\n",
       "      <td>0.731323</td>\n",
       "      <td>0.0</td>\n",
       "      <td>Iceland</td>\n",
       "      <td>0.0</td>\n",
       "      <td>0.523740</td>\n",
       "    </tr>\n",
       "  </tbody>\n",
       "</table>\n",
       "</div>"
      ],
      "text/plain": [
       "   daily time spent on site  area income  daily internet usage  male  \\\n",
       "0                  0.617882     0.730472              0.916031   0.0   \n",
       "1                  0.809621     0.831375              0.538746   1.0   \n",
       "2                  0.626721     0.699200              0.797433   0.0   \n",
       "3                  0.706272     0.623160              0.854280   1.0   \n",
       "4                  0.608023     0.914568              0.731323   0.0   \n",
       "\n",
       "      country  clicked on ad   log age  \n",
       "0     Tunisia            0.0  0.523740  \n",
       "1       Nauru            0.0  0.419696  \n",
       "2  San Marino            0.0  0.268903  \n",
       "3       Italy            0.0  0.362521  \n",
       "4     Iceland            0.0  0.523740  "
      ]
     },
     "execution_count": 37,
     "metadata": {},
     "output_type": "execute_result"
    }
   ],
   "source": [
    "copy_df.head()"
   ]
  },
  {
   "cell_type": "markdown",
   "metadata": {},
   "source": [
    "### -- One Hot - Encoding --"
   ]
  },
  {
   "cell_type": "code",
   "execution_count": 38,
   "metadata": {},
   "outputs": [],
   "source": [
    "country = pd.get_dummies(advertising_df['country'], prefix='country', prefix_sep='_')"
   ]
  },
  {
   "cell_type": "code",
   "execution_count": 39,
   "metadata": {},
   "outputs": [],
   "source": [
    "copy_df = copy_df.drop(axis = 1, columns=['country'])"
   ]
  },
  {
   "cell_type": "code",
   "execution_count": 40,
   "metadata": {},
   "outputs": [],
   "source": [
    "new_advertising_df = pd.concat([copy_df, country], axis = 1)"
   ]
  },
  {
   "cell_type": "markdown",
   "metadata": {},
   "source": [
    "## 5. Model Selection"
   ]
  },
  {
   "cell_type": "markdown",
   "metadata": {},
   "source": [
    "As mentioned above, we will remove 'city' due to its extreme diversity. For the time being and for the simplicity of our model, we will delete 'timestamp' and 'ad topic line' as these need special approaches like Natural Language Processing and Time Series Analysis.  \n",
    "\n",
    "We will test different algorithms including Logistic Regression and Random Forest Classifier. The best model will be chosen and tuned to find the best parameters to optimise performance. The metrics used for assessing our models are:\n",
    "  - F1 score (F-beta)\n",
    "  - Time\n",
    "\n",
    "Logistic Regression will be chosen over its counterpart due to its simplicity and faster running time. Our goal is not just only to choose a model for its accuracy but also its fast running time. A grid Search CV will be performed to look for the best value of parameter 'C'.  \n",
    "\n",
    "Our objective here is to minimise the false positive rate as low as possible as we do not want to have to spend money on the users who will not click. Minimising false positive rate means that we will have to maximise our precision. In this situation to gain the best result we will use the f-beta score which is the generalisation of F1-score, however, we could optimise it over the beta score. A beta score of 1 will generate the same result as F1, a score of 2 will give more weight to recall and a value of 0.5 will give more weight to precision which we wish to maximise."
   ]
  },
  {
   "cell_type": "markdown",
   "metadata": {},
   "source": [
    "### -- Train - Test - Split --"
   ]
  },
  {
   "cell_type": "code",
   "execution_count": 41,
   "metadata": {},
   "outputs": [],
   "source": [
    "y = new_advertising_df.pop('clicked on ad') "
   ]
  },
  {
   "cell_type": "code",
   "execution_count": 42,
   "metadata": {},
   "outputs": [],
   "source": [
    "X = new_advertising_df"
   ]
  },
  {
   "cell_type": "code",
   "execution_count": 43,
   "metadata": {},
   "outputs": [],
   "source": [
    "X_train, X_test, y_train, y_test = train_test_split(X,y, test_size = 0.2, random_state = 42, stratify = y)"
   ]
  },
  {
   "cell_type": "code",
   "execution_count": 44,
   "metadata": {},
   "outputs": [
    {
     "name": "stdout",
     "output_type": "stream",
     "text": [
      "(803, 242)\n",
      "(803,)\n",
      "(201, 242)\n",
      "(201,)\n"
     ]
    }
   ],
   "source": [
    "#double check on our train and test set\n",
    "print(X_train.shape)\n",
    "print(y_train.shape)\n",
    "print(X_test.shape)\n",
    "print(y_test.shape)"
   ]
  },
  {
   "cell_type": "markdown",
   "metadata": {},
   "source": [
    "### -- Logistic Regression --"
   ]
  },
  {
   "cell_type": "markdown",
   "metadata": {},
   "source": [
    "### -- Model Tuning --"
   ]
  },
  {
   "cell_type": "code",
   "execution_count": 45,
   "metadata": {},
   "outputs": [],
   "source": [
    "#apply Grid Search on our Logistic Regression model using F_score(F-beta) as a scoring method\n",
    "model= LogisticRegression(random_state=40, penalty='l2')\n",
    "params = {'C': [0.01, 0.1, 1, 2,3,4,5,6,7,8,9,10,20,50,100]}\n",
    "scorer = make_scorer(fbeta_score, beta = 0.5)\n",
    "grid_search_object = GridSearchCV(model, param_grid=params, scoring=scorer)\n",
    "grid_search_object.fit(X_train, y_train)\n",
    "best_estimator = grid_search_object.best_estimator_"
   ]
  },
  {
   "cell_type": "code",
   "execution_count": 46,
   "metadata": {},
   "outputs": [],
   "source": [
    "#Create a function to make a prediction on data and print out a report \n",
    "def best_classification_report(X,y, data_name):\n",
    "    best_prediction = best_estimator.predict(X)\n",
    "    F_score = fbeta_score(y, best_prediction, beta = 0.5)\n",
    "    print(best_estimator)\n",
    "    print('\\n F-score on {} : {:.4f}'.format(data_name, F_score))\n",
    "    print('--- Optimised Summary ---')\n",
    "    print('-- confusion_matrix --')\n",
    "    conmat = confusion_matrix(y, best_prediction)\n",
    "    print('The number of True Positives: {}'.format(conmat[1,1]))\n",
    "    print('The number of False Positives: {}'.format(conmat[0,1]))\n",
    "    print('The number of True Negatives: {}'.format(conmat[0,0]))\n",
    "    print('The number of False Negatives: {}'.format(conmat[1,0]))\n",
    "    print('-- classification report --')\n",
    "    print(classification_report(y, best_prediction))"
   ]
  },
  {
   "cell_type": "markdown",
   "metadata": {},
   "source": [
    "### -- Perform On Trainning Set --"
   ]
  },
  {
   "cell_type": "code",
   "execution_count": 47,
   "metadata": {},
   "outputs": [
    {
     "name": "stdout",
     "output_type": "stream",
     "text": [
      "LogisticRegression(C=0.01, class_weight=None, dual=False, fit_intercept=True,\n",
      "                   intercept_scaling=1, l1_ratio=None, max_iter=100,\n",
      "                   multi_class='auto', n_jobs=None, penalty='l2',\n",
      "                   random_state=40, solver='lbfgs', tol=0.0001, verbose=0,\n",
      "                   warm_start=False)\n",
      "\n",
      " F-score on Train Data : 0.9785\n",
      "--- Optimised Summary ---\n",
      "-- confusion_matrix --\n",
      "The number of True Positives: 373\n",
      "The number of False Positives: 3\n",
      "The number of True Negatives: 398\n",
      "The number of False Negatives: 29\n",
      "-- classification report --\n",
      "              precision    recall  f1-score   support\n",
      "\n",
      "         0.0       0.93      0.99      0.96       401\n",
      "         1.0       0.99      0.93      0.96       402\n",
      "\n",
      "    accuracy                           0.96       803\n",
      "   macro avg       0.96      0.96      0.96       803\n",
      "weighted avg       0.96      0.96      0.96       803\n",
      "\n"
     ]
    }
   ],
   "source": [
    "best_classification_report(X = X_train, y= y_train, data_name='Train Data')"
   ]
  },
  {
   "cell_type": "code",
   "execution_count": 48,
   "metadata": {},
   "outputs": [],
   "source": [
    "#Let's make a change by moving threshold to the left\n",
    "y_pred_prob = best_estimator.predict_proba(X_train)[:,1]"
   ]
  },
  {
   "cell_type": "code",
   "execution_count": 49,
   "metadata": {},
   "outputs": [
    {
     "name": "stdout",
     "output_type": "stream",
     "text": [
      "LogisticRegression(C=0.01, class_weight=None, dual=False, fit_intercept=True,\n",
      "                   intercept_scaling=1, l1_ratio=None, max_iter=100,\n",
      "                   multi_class='auto', n_jobs=None, penalty='l2',\n",
      "                   random_state=40, solver='lbfgs', tol=0.0001, verbose=0,\n",
      "                   warm_start=False)\n",
      "\n",
      " F-score on Train Data : 0.9691\n",
      "--- Optimised Summary ---\n",
      "-- confusion_matrix --\n",
      "The number of True Positives: 376\n",
      "The number of False Positives: 0\n",
      "The number of True Negatives: 367\n",
      "The number of False Negatives: 60\n",
      "-- classification report --\n",
      "              precision    recall  f1-score   support\n",
      "\n",
      "           0       0.86      1.00      0.92       367\n",
      "           1       1.00      0.86      0.93       436\n",
      "\n",
      "    accuracy                           0.93       803\n",
      "   macro avg       0.93      0.93      0.93       803\n",
      "weighted avg       0.94      0.93      0.93       803\n",
      "\n"
     ]
    }
   ],
   "source": [
    "#Let's make a change by movinf threshold to the left\n",
    "y_pred_prob_class = np.where(y_pred_prob < 0.45,0,1)\n",
    "best_classification_report(X_train, y_pred_prob_class, 'Train Data')"
   ]
  },
  {
   "cell_type": "markdown",
   "metadata": {},
   "source": [
    "### -- Perform On Testing Set --"
   ]
  },
  {
   "cell_type": "code",
   "execution_count": 50,
   "metadata": {},
   "outputs": [
    {
     "name": "stdout",
     "output_type": "stream",
     "text": [
      "LogisticRegression(C=0.01, class_weight=None, dual=False, fit_intercept=True,\n",
      "                   intercept_scaling=1, l1_ratio=None, max_iter=100,\n",
      "                   multi_class='auto', n_jobs=None, penalty='l2',\n",
      "                   random_state=40, solver='lbfgs', tol=0.0001, verbose=0,\n",
      "                   warm_start=False)\n",
      "\n",
      " F-score on Test Data : 0.9722\n",
      "--- Optimised Summary ---\n",
      "-- confusion_matrix --\n",
      "The number of True Positives: 91\n",
      "The number of False Positives: 1\n",
      "The number of True Negatives: 100\n",
      "The number of False Negatives: 9\n",
      "-- classification report --\n",
      "              precision    recall  f1-score   support\n",
      "\n",
      "         0.0       0.92      0.99      0.95       101\n",
      "         1.0       0.99      0.91      0.95       100\n",
      "\n",
      "    accuracy                           0.95       201\n",
      "   macro avg       0.95      0.95      0.95       201\n",
      "weighted avg       0.95      0.95      0.95       201\n",
      "\n"
     ]
    }
   ],
   "source": [
    "best_classification_report(X_test, y_test, 'Test Data')"
   ]
  },
  {
   "cell_type": "code",
   "execution_count": 51,
   "metadata": {},
   "outputs": [
    {
     "name": "stdout",
     "output_type": "stream",
     "text": [
      "LogisticRegression(C=0.01, class_weight=None, dual=False, fit_intercept=True,\n",
      "                   intercept_scaling=1, l1_ratio=None, max_iter=100,\n",
      "                   multi_class='auto', n_jobs=None, penalty='l2',\n",
      "                   random_state=40, solver='lbfgs', tol=0.0001, verbose=0,\n",
      "                   warm_start=False)\n",
      "\n",
      " F-score on Test Data : 0.9623\n",
      "--- Optimised Summary ---\n",
      "-- confusion_matrix --\n",
      "The number of True Positives: 92\n",
      "The number of False Positives: 0\n",
      "The number of True Negatives: 91\n",
      "The number of False Negatives: 18\n",
      "-- classification report --\n",
      "              precision    recall  f1-score   support\n",
      "\n",
      "           0       0.83      1.00      0.91        91\n",
      "           1       1.00      0.84      0.91       110\n",
      "\n",
      "    accuracy                           0.91       201\n",
      "   macro avg       0.92      0.92      0.91       201\n",
      "weighted avg       0.93      0.91      0.91       201\n",
      "\n"
     ]
    }
   ],
   "source": [
    "#Let's make a change by moving threshold to the left\n",
    "y_pred_prob = best_estimator.predict_proba(X_test)[:,1]\n",
    "y_pred_prob_class = np.where(y_pred_prob < 0.45,0,1)\n",
    "best_classification_report(X_test, y_pred_prob_class, 'Test Data')"
   ]
  },
  {
   "cell_type": "code",
   "execution_count": 52,
   "metadata": {},
   "outputs": [
    {
     "data": {
      "image/png": "[encoded data removed]",
      "text/plain": [
       "<Figure size 432x288 with 1 Axes>"
      ]
     },
     "metadata": {
      "needs_background": "light"
     },
     "output_type": "display_data"
    }
   ],
   "source": [
    "fpr, tpr, thresholds = roc_curve(y_test, best_estimator.predict_proba(X_test)[:,1])\n",
    "plt.plot(fpr, tpr)\n",
    "plt.xlim([0.0, 1.0])\n",
    "plt.ylim([0.0, 1.0])\n",
    "plt.title(\"ROC Curve for Ad Classifier\")\n",
    "plt.xlabel(\"False Positive Rate (1 - Specificity)\")\n",
    "plt.ylabel(\"True Positive Rate (Sensitivity)\")\n",
    "plt.grid(True)"
   ]
  },
  {
   "cell_type": "markdown",
   "metadata": {},
   "source": [
    "From the Optimised Summary we could see our model performing very well on the test set. It generates a precision rate of 99% and an F-score of 97%. It performs even better when we move the threshold to the left allowing us to reach a precision rate of 100%. In the next step let's look at the feature importances of our model."
   ]
  },
  {
   "cell_type": "markdown",
   "metadata": {},
   "source": [
    "### -- Feature Importances --"
   ]
  },
  {
   "cell_type": "code",
   "execution_count": 53,
   "metadata": {},
   "outputs": [],
   "source": [
    "def summarise_feature_importance(feature_names, model, summarise_cols, col_name):\n",
    "    feature_dict = dict(zip(feature_names, model.feature_importances_))\n",
    "    key_list = []\n",
    "    value_list = []\n",
    "    for key, value in feature_dict.items():\n",
    "        if key not in summarise_cols:\n",
    "            key_list.append(key)\n",
    "            value_list.append(value)\n",
    "            sum_col = sum(value_list)\n",
    "    feature_dict[col_name] = sum_col\n",
    "    for k in key_list:\n",
    "        feature_dict.pop(k)\n",
    "    results = pd.Series(feature_dict, feature_dict.keys())\n",
    "    results.sort_values(inplace=True)\n",
    "    results.plot(kind = 'barh', figsize = (12,7))"
   ]
  },
  {
   "cell_type": "code",
   "execution_count": 54,
   "metadata": {},
   "outputs": [
    {
     "data": {
      "image/png": "[encoded data removed]",
      "text/plain": [
       "<Figure size 864x504 with 1 Axes>"
      ]
     },
     "metadata": {
      "needs_background": "light"
     },
     "output_type": "display_data"
    }
   ],
   "source": [
    "summarise_cols = ['daily time spent on site', 'area income', 'daily internet usage',\n",
    "       'male', 'log age']\n",
    "rf_model = RandomForestClassifier(random_state=42)\n",
    "rf_model.fit(X_train, y_train)\n",
    "summarise_feature_importance(feature_names=X_train.columns,\n",
    "                             model = rf_model, summarise_cols=summarise_cols, col_name='country')"
   ]
  },
  {
   "cell_type": "markdown",
   "metadata": {},
   "source": [
    "## 6. Conclusion"
   ]
  },
  {
   "cell_type": "markdown",
   "metadata": {},
   "source": [
    "According to our model feature importances we can target our customers from the following information:\n",
    "- Daily internet usage\n",
    "- Daily time spent on site\n",
    "- Income\n",
    "- Age\n",
    "\n",
    "Our finding from the Exploratory Data Analysis suggests that our target customers would be users who:\n",
    "- Spend less time on the internet\n",
    "- Spend less time on our website\n",
    "- Having lower income\n",
    "- Older that our calculated average age of 40\n",
    "\n",
    "Also by decreasing our threshold to 0.45 our model performs the best by generating the minimum false positive rate which optimises the business profit."
   ]
  },
  {
   "cell_type": "code",
   "execution_count": null,
   "metadata": {},
   "outputs": [],
   "source": []
  }
 ],
 "metadata": {
  "kernelspec": {
   "display_name": "Python 3",
   "language": "python",
   "name": "python3"
  },
  "language_info": {
   "codemirror_mode": {
    "name": "ipython",
    "version": 3
   },
   "file_extension": ".py",
   "mimetype": "text/x-python",
   "name": "python",
   "nbconvert_exporter": "python",
   "pygments_lexer": "ipython3",
   "version": "3.7.6"
  }
 },
 "nbformat": 4,
 "nbformat_minor": 4
}
